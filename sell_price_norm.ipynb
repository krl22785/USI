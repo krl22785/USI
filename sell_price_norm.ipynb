{
 "metadata": {
  "name": "",
  "signature": "sha256:e0f8d3601dac361b1f2ba266e41ff86156974b1abb75496a99bbd65863a2bee3"
 },
 "nbformat": 3,
 "nbformat_minor": 0,
 "worksheets": [
  {
   "cells": [
    {
     "cell_type": "code",
     "collapsed": false,
     "input": [
      "from pandas import DataFrame as df"
     ],
     "language": "python",
     "metadata": {},
     "outputs": [],
     "prompt_number": 56
    },
    {
     "cell_type": "code",
     "collapsed": false,
     "input": [
      "buy_price=df.from_csv('real_estate_usi.csv')"
     ],
     "language": "python",
     "metadata": {},
     "outputs": [],
     "prompt_number": 57
    },
    {
     "cell_type": "code",
     "collapsed": false,
     "input": [
      "list(buy_price.columns)"
     ],
     "language": "python",
     "metadata": {},
     "outputs": [
      {
       "metadata": {},
       "output_type": "pyout",
       "prompt_number": 58,
       "text": [
        "['borough',\n",
        " 'neighborhood',\n",
        " 'building_class_category',\n",
        " 'tax_class_at_present',\n",
        " 'block',\n",
        " 'lot',\n",
        " 'ease-ment',\n",
        " 'building_class_at_present',\n",
        " 'address',\n",
        " 'apartment_number',\n",
        " 'zip_code',\n",
        " 'residential_units',\n",
        " 'commercial_units',\n",
        " 'total_units',\n",
        " 'land_square_feet',\n",
        " 'gross_square_feet',\n",
        " 'year_built',\n",
        " 'tax_class_at_time_of_sale',\n",
        " 'building_class_at_time_of_sale',\n",
        " 'sale_price',\n",
        " 'sale_date.1',\n",
        " 'unit_count']"
       ]
      }
     ],
     "prompt_number": 58
    },
    {
     "cell_type": "code",
     "collapsed": false,
     "input": [
      "buy_price.dtypes\n",
      "string_column_name=buy_price.columns[[1,2,3,6,7,8,9,18,20]]\n",
      "string_column_list=[1,2,3,6,7,8,9,18,20]\n",
      "buy_price_encode=buy_price"
     ],
     "language": "python",
     "metadata": {},
     "outputs": [],
     "prompt_number": 81
    },
    {
     "cell_type": "code",
     "collapsed": false,
     "input": [
      "column_list"
     ],
     "language": "python",
     "metadata": {},
     "outputs": [
      {
       "metadata": {},
       "output_type": "pyout",
       "prompt_number": 82,
       "text": [
        "[1, 2, 3, 6, 7, 8, 9, 18, 20]"
       ]
      }
     ],
     "prompt_number": 82
    },
    {
     "cell_type": "code",
     "collapsed": false,
     "input": [
      "import sklearn.preprocessing as pre"
     ],
     "language": "python",
     "metadata": {},
     "outputs": [],
     "prompt_number": 83
    },
    {
     "cell_type": "code",
     "collapsed": false,
     "input": [
      "for num in string_column_list: \n",
      "    le = pre.LabelEncoder()\n",
      "    le.fit(buy_price.iloc[:,num])\n",
      "    # list(le.classes_)\n",
      "    buy_price_encode.iloc[:,num]=le.transform(buy_price.iloc[:,num]) \n",
      "    # list(le.inverse_transform([2, 2, 1]))"
     ],
     "language": "python",
     "metadata": {},
     "outputs": [],
     "prompt_number": 84
    },
    {
     "cell_type": "code",
     "collapsed": false,
     "input": [
      "def submean(s):\n",
      "    for i in s:\n",
      "        i=i-s.mean()\n",
      "buy_price_cleanzip_norm=buy_price_encode.apply(submean,axis=0)"
     ],
     "language": "python",
     "metadata": {},
     "outputs": []
    }
   ],
   "metadata": {}
  }
 ]
}