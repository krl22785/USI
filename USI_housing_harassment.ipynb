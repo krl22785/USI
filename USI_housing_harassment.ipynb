{
 "metadata": {
  "name": "",
  "signature": "sha256:c9e902bb7a37063993e37967ea30b73c41227f3763fdb8aa040967bc402f6e45"
 },
 "nbformat": 3,
 "nbformat_minor": 0,
 "worksheets": [
  {
   "cells": [
    {
     "cell_type": "code",
     "collapsed": false,
     "input": [
      "import lxml.html\n",
      "import urllib2\n",
      "import requests\n",
      "import urllib\n",
      "\n",
      "import datetime\n",
      "import os\n",
      "import xlrd\n",
      "import csv\n",
      "\n",
      "%matplotlib inline  \n",
      "\n",
      "import matplotlib.pyplot as plt\n",
      "\n",
      "import pandas as pd\n",
      "import numpy as np\n",
      "pd.set_option('display.mpl_style', 'default')"
     ],
     "language": "python",
     "metadata": {},
     "outputs": [],
     "prompt_number": 1
    },
    {
     "cell_type": "heading",
     "level": 3,
     "metadata": {},
     "source": [
      "Real Estate Sales"
     ]
    },
    {
     "cell_type": "code",
     "collapsed": false,
     "input": [
      "r = requests.get(\"http://www.nyc.gov/html/dof/html/property/rolling_sales_data_annualized.shtml\")\n",
      "html = lxml.html.fromstring(r.text)\n",
      "links = html.xpath(\"(//a)[@target='_blank']\")\n",
      "\n",
      "download_links = []\n",
      "for ind, val in enumerate(links):\n",
      "    if '.xls' in str(val.get(\"href\")):\n",
      "        download_links.append(str(val.get(\"href\")))\n",
      "    else:\n",
      "        pass\n",
      "\n",
      "download_links = download_links[12:] "
     ],
     "language": "python",
     "metadata": {},
     "outputs": [],
     "prompt_number": 2
    },
    {
     "cell_type": "code",
     "collapsed": false,
     "input": [
      "r = requests.get(\"http://www.nyc.gov/html/dof/html/property/rolling_sales_data.shtml\")\n",
      "html = lxml.html.fromstring(r.text)\n",
      "\n",
      "links = html.xpath(\"(//a)[@target='_blank']\")\n",
      "\n",
      "download_links_2014 = []\n",
      "for ind, val in enumerate(links):\n",
      "    if 'xls' in str(val.get('href')):\n",
      "        download_links_2014.append(str(val.get('href')))\n",
      "    else:\n",
      "        pass\n",
      "\n",
      "for i in download_links:\n",
      "    download_links_2014.append(i)\n",
      "\n",
      "download_links_all = download_links_2014"
     ],
     "language": "python",
     "metadata": {},
     "outputs": [],
     "prompt_number": 5
    },
    {
     "cell_type": "code",
     "collapsed": false,
     "input": [
      "years = [2014, 2013, 2012, 2011, 2010, 2009, 2008, 2007, 2006, 2005, 2004, 2003]\n",
      "borough = ['Manhattan', 'Bronx', 'Brooklyn', 'Queens', 'Staten Island']\n",
      "loc = \"/Users/krluna/CUSP/USI/real_estate/\"\n",
      "\n",
      "root_url = 'http://www.nyc.gov/html/dof'\n",
      "index = 0\n",
      "\n",
      "for year in years:\n",
      "    for name in borough:\n",
      "        fileName = str(year) + '_' + str(name) + '.xls'\n",
      "        fullfilename = os.path.join(loc, fileName)\n",
      "        \n",
      "        addOn = download_links_all[index][5:].replace(\" \", \"%20\")\n",
      "        download_link = root_url + addOn\n",
      "\n",
      "        urllib.urlretrieve(download_link, fullfilename) ## DOUBLE CHECK THIS \n",
      "        print \"downloading......%s\" % fileName\n",
      "        index += 1"
     ],
     "language": "python",
     "metadata": {},
     "outputs": [
      {
       "output_type": "stream",
       "stream": "stdout",
       "text": [
        "downloading......2014_Manhattan.xls\n",
        "downloading......2014_Bronx.xls"
       ]
      },
      {
       "output_type": "stream",
       "stream": "stdout",
       "text": [
        "\n",
        "downloading......2014_Brooklyn.xls"
       ]
      },
      {
       "output_type": "stream",
       "stream": "stdout",
       "text": [
        "\n",
        "downloading......2014_Queens.xls"
       ]
      },
      {
       "output_type": "stream",
       "stream": "stdout",
       "text": [
        "\n",
        "downloading......2014_Staten Island.xls"
       ]
      },
      {
       "output_type": "stream",
       "stream": "stdout",
       "text": [
        "\n",
        "downloading......2013_Manhattan.xls"
       ]
      },
      {
       "output_type": "stream",
       "stream": "stdout",
       "text": [
        "\n",
        "downloading......2013_Bronx.xls"
       ]
      },
      {
       "output_type": "stream",
       "stream": "stdout",
       "text": [
        "\n",
        "downloading......2013_Brooklyn.xls"
       ]
      },
      {
       "output_type": "stream",
       "stream": "stdout",
       "text": [
        "\n",
        "downloading......2013_Queens.xls"
       ]
      },
      {
       "output_type": "stream",
       "stream": "stdout",
       "text": [
        "\n",
        "downloading......2013_Staten Island.xls"
       ]
      },
      {
       "output_type": "stream",
       "stream": "stdout",
       "text": [
        "\n",
        "downloading......2012_Manhattan.xls"
       ]
      },
      {
       "output_type": "stream",
       "stream": "stdout",
       "text": [
        "\n",
        "downloading......2012_Bronx.xls"
       ]
      },
      {
       "output_type": "stream",
       "stream": "stdout",
       "text": [
        "\n",
        "downloading......2012_Brooklyn.xls"
       ]
      },
      {
       "output_type": "stream",
       "stream": "stdout",
       "text": [
        "\n",
        "downloading......2012_Queens.xls"
       ]
      },
      {
       "output_type": "stream",
       "stream": "stdout",
       "text": [
        "\n",
        "downloading......2012_Staten Island.xls"
       ]
      },
      {
       "output_type": "stream",
       "stream": "stdout",
       "text": [
        "\n",
        "downloading......2011_Manhattan.xls"
       ]
      },
      {
       "output_type": "stream",
       "stream": "stdout",
       "text": [
        "\n",
        "downloading......2011_Bronx.xls"
       ]
      },
      {
       "output_type": "stream",
       "stream": "stdout",
       "text": [
        "\n",
        "downloading......2011_Brooklyn.xls"
       ]
      },
      {
       "output_type": "stream",
       "stream": "stdout",
       "text": [
        "\n",
        "downloading......2011_Queens.xls"
       ]
      },
      {
       "output_type": "stream",
       "stream": "stdout",
       "text": [
        "\n",
        "downloading......2011_Staten Island.xls"
       ]
      },
      {
       "output_type": "stream",
       "stream": "stdout",
       "text": [
        "\n",
        "downloading......2010_Manhattan.xls"
       ]
      },
      {
       "output_type": "stream",
       "stream": "stdout",
       "text": [
        "\n",
        "downloading......2010_Bronx.xls"
       ]
      },
      {
       "output_type": "stream",
       "stream": "stdout",
       "text": [
        "\n",
        "downloading......2010_Brooklyn.xls"
       ]
      },
      {
       "output_type": "stream",
       "stream": "stdout",
       "text": [
        "\n",
        "downloading......2010_Queens.xls"
       ]
      },
      {
       "output_type": "stream",
       "stream": "stdout",
       "text": [
        "\n",
        "downloading......2010_Staten Island.xls"
       ]
      },
      {
       "output_type": "stream",
       "stream": "stdout",
       "text": [
        "\n",
        "downloading......2009_Manhattan.xls"
       ]
      },
      {
       "output_type": "stream",
       "stream": "stdout",
       "text": [
        "\n",
        "downloading......2009_Bronx.xls"
       ]
      },
      {
       "output_type": "stream",
       "stream": "stdout",
       "text": [
        "\n",
        "downloading......2009_Brooklyn.xls"
       ]
      },
      {
       "output_type": "stream",
       "stream": "stdout",
       "text": [
        "\n",
        "downloading......2009_Queens.xls"
       ]
      },
      {
       "output_type": "stream",
       "stream": "stdout",
       "text": [
        "\n",
        "downloading......2009_Staten Island.xls"
       ]
      },
      {
       "output_type": "stream",
       "stream": "stdout",
       "text": [
        "\n",
        "downloading......2008_Manhattan.xls"
       ]
      },
      {
       "output_type": "stream",
       "stream": "stdout",
       "text": [
        "\n",
        "downloading......2008_Bronx.xls"
       ]
      },
      {
       "output_type": "stream",
       "stream": "stdout",
       "text": [
        "\n",
        "downloading......2008_Brooklyn.xls"
       ]
      },
      {
       "output_type": "stream",
       "stream": "stdout",
       "text": [
        "\n",
        "downloading......2008_Queens.xls"
       ]
      },
      {
       "output_type": "stream",
       "stream": "stdout",
       "text": [
        "\n",
        "downloading......2008_Staten Island.xls"
       ]
      },
      {
       "output_type": "stream",
       "stream": "stdout",
       "text": [
        "\n",
        "downloading......2007_Manhattan.xls"
       ]
      },
      {
       "output_type": "stream",
       "stream": "stdout",
       "text": [
        "\n",
        "downloading......2007_Bronx.xls"
       ]
      },
      {
       "output_type": "stream",
       "stream": "stdout",
       "text": [
        "\n",
        "downloading......2007_Brooklyn.xls"
       ]
      },
      {
       "output_type": "stream",
       "stream": "stdout",
       "text": [
        "\n",
        "downloading......2007_Queens.xls"
       ]
      },
      {
       "output_type": "stream",
       "stream": "stdout",
       "text": [
        "\n",
        "downloading......2007_Staten Island.xls"
       ]
      },
      {
       "output_type": "stream",
       "stream": "stdout",
       "text": [
        "\n",
        "downloading......2006_Manhattan.xls"
       ]
      },
      {
       "output_type": "stream",
       "stream": "stdout",
       "text": [
        "\n",
        "downloading......2006_Bronx.xls"
       ]
      },
      {
       "output_type": "stream",
       "stream": "stdout",
       "text": [
        "\n",
        "downloading......2006_Brooklyn.xls"
       ]
      },
      {
       "output_type": "stream",
       "stream": "stdout",
       "text": [
        "\n",
        "downloading......2006_Queens.xls"
       ]
      },
      {
       "output_type": "stream",
       "stream": "stdout",
       "text": [
        "\n",
        "downloading......2006_Staten Island.xls"
       ]
      },
      {
       "output_type": "stream",
       "stream": "stdout",
       "text": [
        "\n",
        "downloading......2005_Manhattan.xls"
       ]
      },
      {
       "output_type": "stream",
       "stream": "stdout",
       "text": [
        "\n",
        "downloading......2005_Bronx.xls"
       ]
      },
      {
       "output_type": "stream",
       "stream": "stdout",
       "text": [
        "\n",
        "downloading......2005_Brooklyn.xls"
       ]
      },
      {
       "output_type": "stream",
       "stream": "stdout",
       "text": [
        "\n",
        "downloading......2005_Queens.xls"
       ]
      },
      {
       "output_type": "stream",
       "stream": "stdout",
       "text": [
        "\n",
        "downloading......2005_Staten Island.xls"
       ]
      },
      {
       "output_type": "stream",
       "stream": "stdout",
       "text": [
        "\n",
        "downloading......2004_Manhattan.xls"
       ]
      },
      {
       "output_type": "stream",
       "stream": "stdout",
       "text": [
        "\n",
        "downloading......2004_Bronx.xls"
       ]
      },
      {
       "output_type": "stream",
       "stream": "stdout",
       "text": [
        "\n",
        "downloading......2004_Brooklyn.xls"
       ]
      },
      {
       "output_type": "stream",
       "stream": "stdout",
       "text": [
        "\n",
        "downloading......2004_Queens.xls"
       ]
      },
      {
       "output_type": "stream",
       "stream": "stdout",
       "text": [
        "\n",
        "downloading......2004_Staten Island.xls"
       ]
      },
      {
       "output_type": "stream",
       "stream": "stdout",
       "text": [
        "\n",
        "downloading......2003_Manhattan.xls"
       ]
      },
      {
       "output_type": "stream",
       "stream": "stdout",
       "text": [
        "\n",
        "downloading......2003_Bronx.xls"
       ]
      },
      {
       "output_type": "stream",
       "stream": "stdout",
       "text": [
        "\n",
        "downloading......2003_Brooklyn.xls"
       ]
      },
      {
       "output_type": "stream",
       "stream": "stdout",
       "text": [
        "\n",
        "downloading......2003_Queens.xls"
       ]
      },
      {
       "output_type": "stream",
       "stream": "stdout",
       "text": [
        "\n",
        "downloading......2003_Staten Island.xls"
       ]
      },
      {
       "output_type": "stream",
       "stream": "stdout",
       "text": [
        "\n"
       ]
      }
     ],
     "prompt_number": 7
    },
    {
     "cell_type": "code",
     "collapsed": false,
     "input": [
      "skip = {2003: 3,\n",
      "        2004: 3,\n",
      "        2005: 3,\n",
      "        2005: 3,\n",
      "        2006: 3,\n",
      "        2007: 3,\n",
      "        2008: 3,\n",
      "        2009: 3,\n",
      "        2010: 3,\n",
      "        2011: 4,\n",
      "        2012: 4,\n",
      "        2013: 4,\n",
      "        2014: 4}\n",
      "\n",
      "colNames = ['borough', 'neighborhood', 'building_class_category', 'tax_class_at_present', 'block', 'lot', 'ease-ment',\\\n",
      "            'building_class_at_present', 'address', 'apartment_number', 'zip_code', 'residential_units', 'commercial_units', \\\n",
      "            'total_units', 'land_square_feet', 'gross_square_feet', 'year_built', 'tax_class_at_time_of_sale', \\\n",
      "            'building_class_at_time_of_sale', 'sale_price', 'sale_date']"
     ],
     "language": "python",
     "metadata": {},
     "outputs": [],
     "prompt_number": 8
    },
    {
     "cell_type": "code",
     "collapsed": false,
     "input": [
      "def xldate_to_datetime(xldate):\n",
      "    temp = datetime.datetime(1900, 1, 1)\n",
      "    delta = datetime.timedelta(days = xldate)\n",
      "    return temp + delta - datetime.timedelta(days = 2)"
     ],
     "language": "python",
     "metadata": {},
     "outputs": [],
     "prompt_number": 9
    },
    {
     "cell_type": "code",
     "collapsed": false,
     "input": [
      "tables = {}\n",
      "total_records = 0 \n",
      "\n",
      "for i in os.listdir(\"/Users/krluna/CUSP/USI/real_estate/\"):\n",
      "    \n",
      "    try:\n",
      "        loc = \"/Users/krluna/CUSP/USI/real_estate/\" + i\n",
      "        xls = pd.read_excel(loc, 0, skiprows = skip[int(i[0:4])], names = colNames)\n",
      "        tables[str(i[:-4])] = xls\n",
      "        print str(i) + \" files has \" + str(skip[int(i[0:4])]) + \" rows to skip\"  \n",
      "        total_records = total_records + len(tables[str(i[:-4])])\n",
      "                    \n",
      "    except:\n",
      "        \n",
      "        wb = xlrd.open_workbook(\"/Users/krluna/CUSP/USI/real_estate/\" + i)\n",
      "        sh = wb.sheet_by_name(wb.sheet_names()[0])\n",
      "        new_csv = \"/Users/krluna/CUSP/USI/real_estate/\" + i[:-4] + '.csv'\n",
      "        your_csv_file = open(new_csv, 'wb')\n",
      "        wr = csv.writer(your_csv_file, quoting=csv.QUOTE_ALL)\n",
      "\n",
      "        for rownum in xrange(sh.nrows):\n",
      "                wr.writerow(sh.row_values(rownum))\n",
      "\n",
      "        your_csv_file.close()\n",
      "\n",
      "        table = pd.read_csv(new_csv, skiprows = skip[int(i[0:4])])\n",
      "        table['SALE DATE\\n'] = table['SALE DATE\\n'].apply(xldate_to_datetime) #convert from excel date value to date time \n",
      "        table.columns = colNames\n",
      "        tables[str(i[:-4])] = table\n",
      "        print str(i) + \" files has \" + str(skip[int(i[0:4])]) + \" rows to skip and Exception().\" \n",
      "        total_records = total_records + len(tables[str(i[:-4])])\n",
      "        \n",
      "print total_records"
     ],
     "language": "python",
     "metadata": {},
     "outputs": [
      {
       "output_type": "stream",
       "stream": "stdout",
       "text": [
        "2003_Bronx.xls files has 3 rows to skip\n",
        "2003_Brooklyn.xls files has 3 rows to skip"
       ]
      },
      {
       "output_type": "stream",
       "stream": "stdout",
       "text": [
        "\n",
        "2003_Manhattan.xls files has 3 rows to skip"
       ]
      },
      {
       "output_type": "stream",
       "stream": "stdout",
       "text": [
        "\n",
        "2003_Queens.xls files has 3 rows to skip"
       ]
      },
      {
       "output_type": "stream",
       "stream": "stdout",
       "text": [
        "\n",
        "2003_Staten Island.xls files has 3 rows to skip"
       ]
      },
      {
       "output_type": "stream",
       "stream": "stdout",
       "text": [
        "\n",
        "2004_Bronx.xls files has 3 rows to skip"
       ]
      },
      {
       "output_type": "stream",
       "stream": "stdout",
       "text": [
        "\n",
        "2004_Brooklyn.xls files has 3 rows to skip"
       ]
      },
      {
       "output_type": "stream",
       "stream": "stdout",
       "text": [
        "\n",
        "2004_Manhattan.xls files has 3 rows to skip"
       ]
      },
      {
       "output_type": "stream",
       "stream": "stdout",
       "text": [
        "\n",
        "2004_Queens.xls files has 3 rows to skip"
       ]
      },
      {
       "output_type": "stream",
       "stream": "stdout",
       "text": [
        "\n",
        "2004_Staten Island.xls files has 3 rows to skip"
       ]
      },
      {
       "output_type": "stream",
       "stream": "stdout",
       "text": [
        "\n",
        "2005_Bronx.xls files has 3 rows to skip"
       ]
      },
      {
       "output_type": "stream",
       "stream": "stdout",
       "text": [
        "\n",
        "2005_Brooklyn.xls files has 3 rows to skip"
       ]
      },
      {
       "output_type": "stream",
       "stream": "stdout",
       "text": [
        "\n",
        "2005_Manhattan.xls files has 3 rows to skip"
       ]
      },
      {
       "output_type": "stream",
       "stream": "stdout",
       "text": [
        "\n",
        "2005_Queens.xls files has 3 rows to skip"
       ]
      },
      {
       "output_type": "stream",
       "stream": "stdout",
       "text": [
        "\n",
        "2005_Staten Island.xls files has 3 rows to skip"
       ]
      },
      {
       "output_type": "stream",
       "stream": "stdout",
       "text": [
        "\n",
        "2006_Bronx.xls files has 3 rows to skip"
       ]
      },
      {
       "output_type": "stream",
       "stream": "stdout",
       "text": [
        "\n",
        "2006_Brooklyn.xls files has 3 rows to skip"
       ]
      },
      {
       "output_type": "stream",
       "stream": "stdout",
       "text": [
        "\n",
        "2006_Manhattan.xls files has 3 rows to skip"
       ]
      },
      {
       "output_type": "stream",
       "stream": "stdout",
       "text": [
        "\n",
        "2006_Queens.xls files has 3 rows to skip"
       ]
      },
      {
       "output_type": "stream",
       "stream": "stdout",
       "text": [
        "\n",
        "2006_Staten Island.xls files has 3 rows to skip"
       ]
      },
      {
       "output_type": "stream",
       "stream": "stdout",
       "text": [
        "\n",
        "2007_Bronx.xls files has 3 rows to skip"
       ]
      },
      {
       "output_type": "stream",
       "stream": "stdout",
       "text": [
        "\n",
        "2007_Brooklyn.xls files has 3 rows to skip"
       ]
      },
      {
       "output_type": "stream",
       "stream": "stdout",
       "text": [
        "\n",
        "2007_Manhattan.xls files has 3 rows to skip"
       ]
      },
      {
       "output_type": "stream",
       "stream": "stdout",
       "text": [
        "\n",
        "2007_Queens.xls files has 3 rows to skip"
       ]
      },
      {
       "output_type": "stream",
       "stream": "stdout",
       "text": [
        "\n",
        "2007_Staten Island.xls files has 3 rows to skip"
       ]
      },
      {
       "output_type": "stream",
       "stream": "stdout",
       "text": [
        "\n",
        "2008_Bronx.xls files has 3 rows to skip"
       ]
      },
      {
       "output_type": "stream",
       "stream": "stdout",
       "text": [
        "\n",
        "2008_Brooklyn.xls files has 3 rows to skip"
       ]
      },
      {
       "output_type": "stream",
       "stream": "stdout",
       "text": [
        "\n",
        "2008_Manhattan.xls files has 3 rows to skip"
       ]
      },
      {
       "output_type": "stream",
       "stream": "stdout",
       "text": [
        "\n",
        "2008_Queens.xls files has 3 rows to skip"
       ]
      },
      {
       "output_type": "stream",
       "stream": "stdout",
       "text": [
        "\n",
        "2008_Staten Island.xls files has 3 rows to skip"
       ]
      },
      {
       "output_type": "stream",
       "stream": "stdout",
       "text": [
        "\n",
        "2009_Bronx.xls files has 3 rows to skip"
       ]
      },
      {
       "output_type": "stream",
       "stream": "stdout",
       "text": [
        "\n",
        "2009_Brooklyn.xls files has 3 rows to skip"
       ]
      },
      {
       "output_type": "stream",
       "stream": "stdout",
       "text": [
        "\n",
        "2009_Manhattan.xls files has 3 rows to skip"
       ]
      },
      {
       "output_type": "stream",
       "stream": "stdout",
       "text": [
        "\n",
        "2009_Queens.xls files has 3 rows to skip"
       ]
      },
      {
       "output_type": "stream",
       "stream": "stdout",
       "text": [
        "\n",
        "2009_Staten Island.xls files has 3 rows to skip"
       ]
      },
      {
       "output_type": "stream",
       "stream": "stdout",
       "text": [
        "\n",
        "2010_Bronx.xls files has 3 rows to skip"
       ]
      },
      {
       "output_type": "stream",
       "stream": "stdout",
       "text": [
        "\n",
        "2010_Brooklyn.xls files has 3 rows to skip"
       ]
      },
      {
       "output_type": "stream",
       "stream": "stdout",
       "text": [
        "\n",
        "2010_Manhattan.xls files has 3 rows to skip"
       ]
      },
      {
       "output_type": "stream",
       "stream": "stdout",
       "text": [
        "\n",
        "2010_Queens.xls files has 3 rows to skip"
       ]
      },
      {
       "output_type": "stream",
       "stream": "stdout",
       "text": [
        "\n",
        "2010_Staten Island.xls files has 3 rows to skip"
       ]
      },
      {
       "output_type": "stream",
       "stream": "stdout",
       "text": [
        "\n",
        "2011_Bronx.xls files has 4 rows to skip"
       ]
      },
      {
       "output_type": "stream",
       "stream": "stdout",
       "text": [
        "\n",
        "2011_Brooklyn.xls files has 4 rows to skip"
       ]
      },
      {
       "output_type": "stream",
       "stream": "stdout",
       "text": [
        "\n",
        "2011_Manhattan.xls files has 4 rows to skip"
       ]
      },
      {
       "output_type": "stream",
       "stream": "stdout",
       "text": [
        "\n",
        "2011_Queens.xls files has 4 rows to skip"
       ]
      },
      {
       "output_type": "stream",
       "stream": "stdout",
       "text": [
        "\n",
        "2011_Staten Island.xls files has 4 rows to skip"
       ]
      },
      {
       "output_type": "stream",
       "stream": "stdout",
       "text": [
        "\n",
        "2012_Bronx.xls files has 4 rows to skip"
       ]
      },
      {
       "output_type": "stream",
       "stream": "stdout",
       "text": [
        "\n",
        "2012_Brooklyn.xls files has 4 rows to skip and Exception()."
       ]
      },
      {
       "output_type": "stream",
       "stream": "stdout",
       "text": [
        "\n",
        "2012_Manhattan.xls files has 4 rows to skip and Exception()."
       ]
      },
      {
       "output_type": "stream",
       "stream": "stdout",
       "text": [
        "\n",
        "2012_Queens.xls files has 4 rows to skip and Exception()."
       ]
      },
      {
       "output_type": "stream",
       "stream": "stdout",
       "text": [
        "\n",
        "2012_Staten Island.xls files has 4 rows to skip"
       ]
      },
      {
       "output_type": "stream",
       "stream": "stdout",
       "text": [
        "\n",
        "2013_Bronx.xls files has 4 rows to skip"
       ]
      },
      {
       "output_type": "stream",
       "stream": "stdout",
       "text": [
        "\n",
        "2013_Brooklyn.xls files has 4 rows to skip and Exception()."
       ]
      },
      {
       "output_type": "stream",
       "stream": "stdout",
       "text": [
        "\n",
        "2013_Manhattan.xls files has 4 rows to skip and Exception()."
       ]
      },
      {
       "output_type": "stream",
       "stream": "stdout",
       "text": [
        "\n",
        "2013_Queens.xls files has 4 rows to skip and Exception()."
       ]
      },
      {
       "output_type": "stream",
       "stream": "stdout",
       "text": [
        "\n",
        "2013_Staten Island.xls files has 4 rows to skip"
       ]
      },
      {
       "output_type": "stream",
       "stream": "stdout",
       "text": [
        "\n",
        "2014_Bronx.xls files has 4 rows to skip"
       ]
      },
      {
       "output_type": "stream",
       "stream": "stdout",
       "text": [
        "\n",
        "2014_Brooklyn.xls files has 4 rows to skip"
       ]
      },
      {
       "output_type": "stream",
       "stream": "stdout",
       "text": [
        "\n",
        "2014_Manhattan.xls files has 4 rows to skip"
       ]
      },
      {
       "output_type": "stream",
       "stream": "stdout",
       "text": [
        "\n",
        "2014_Queens.xls files has 4 rows to skip"
       ]
      },
      {
       "output_type": "stream",
       "stream": "stdout",
       "text": [
        "\n",
        "2014_Staten Island.xls files has 4 rows to skip"
       ]
      },
      {
       "output_type": "stream",
       "stream": "stdout",
       "text": [
        "\n",
        "1153545\n"
       ]
      }
     ],
     "prompt_number": 10
    },
    {
     "cell_type": "code",
     "collapsed": false,
     "input": [
      "df = tables['2003_Bronx']\n",
      "\n",
      "for i in tables.keys():\n",
      "    if i != '2003_Bronx':\n",
      "        df = pd.concat([df, tables[i]])\n",
      "    else:\n",
      "        pass     \n",
      "\n",
      "df = df.drop_duplicates()  ## delete overlapping records from 2013 and rolling 2014.  \n",
      "\n",
      "re = df.set_index('sale_date', drop = False)\n",
      "re['unit_count'] = 1\n",
      "\n",
      "##Remove any extra in the column names \n",
      "\n",
      "re['zip_code'] = re['zip_code'].astype(int).astype(str)\n",
      "\n",
      "neighborhood_names = [str(i).strip() for i in re['neighborhood']]\n",
      "re['neighborhood'] = neighborhood_names\n",
      "\n",
      "address_names = [str(i).strip() for i in re['address']]\n",
      "re['address'] = address_names\n",
      "\n",
      "apartment_numbers = [str(i).strip() for i in re['apartment_number']]\n",
      "re['apartment_number'] = apartment_numbers\n",
      "\n",
      "building_class = [str(i).strip() for i in re['building_class_category']]\n",
      "re['building_class_category'] = building_class"
     ],
     "language": "python",
     "metadata": {},
     "outputs": [],
     "prompt_number": 34
    },
    {
     "cell_type": "heading",
     "level": 3,
     "metadata": {},
     "source": [
      "Open Complaints Data"
     ]
    },
    {
     "cell_type": "code",
     "collapsed": false,
     "input": [
      "problems = pd.read_csv('AllOpenComplaints20150201/Problem20150131.txt', sep = '|')"
     ],
     "language": "python",
     "metadata": {},
     "outputs": [],
     "prompt_number": 108
    },
    {
     "cell_type": "code",
     "collapsed": false,
     "input": [
      "problems.head()"
     ],
     "language": "python",
     "metadata": {},
     "outputs": [
      {
       "html": [
        "<div style=\"max-height:1000px;max-width:1500px;overflow:auto;\">\n",
        "<table border=\"1\" class=\"dataframe\">\n",
        "  <thead>\n",
        "    <tr style=\"text-align: right;\">\n",
        "      <th></th>\n",
        "      <th>ProblemID</th>\n",
        "      <th>ComplaintID</th>\n",
        "      <th>UnitTypeID</th>\n",
        "      <th>UnitType</th>\n",
        "      <th>SpaceTypeID</th>\n",
        "      <th>SpaceType</th>\n",
        "      <th>TypeID</th>\n",
        "      <th>Type</th>\n",
        "      <th>MajorCategoryID</th>\n",
        "      <th>MajorCategory</th>\n",
        "      <th>MinorCategoryID</th>\n",
        "      <th>MinorCategory</th>\n",
        "      <th>CodeID</th>\n",
        "      <th>Code</th>\n",
        "      <th>StatusID</th>\n",
        "      <th>Status</th>\n",
        "      <th>StatusDate</th>\n",
        "      <th>StatusDescription</th>\n",
        "    </tr>\n",
        "  </thead>\n",
        "  <tbody>\n",
        "    <tr>\n",
        "      <th>0</th>\n",
        "      <td> 15048596</td>\n",
        "      <td> 7226979</td>\n",
        "      <td> 91</td>\n",
        "      <td>     APARTMENT</td>\n",
        "      <td> 546</td>\n",
        "      <td>          KITCHEN</td>\n",
        "      <td> 1</td>\n",
        "      <td>     EMERGENCY</td>\n",
        "      <td>  9</td>\n",
        "      <td>       PLUMBING</td>\n",
        "      <td>  65</td>\n",
        "      <td>      BASIN/SINK</td>\n",
        "      <td> 2534</td>\n",
        "      <td>       PIPE LEAKING</td>\n",
        "      <td> 1</td>\n",
        "      <td>  OPEN</td>\n",
        "      <td> 1/17/2015</td>\n",
        "      <td>  The following complaint conditions are still ...</td>\n",
        "    </tr>\n",
        "    <tr>\n",
        "      <th>1</th>\n",
        "      <td> 15048597</td>\n",
        "      <td> 7226979</td>\n",
        "      <td> 91</td>\n",
        "      <td>     APARTMENT</td>\n",
        "      <td> 546</td>\n",
        "      <td>          KITCHEN</td>\n",
        "      <td> 3</td>\n",
        "      <td> NON EMERGENCY</td>\n",
        "      <td> 11</td>\n",
        "      <td>        GENERAL</td>\n",
        "      <td>  73</td>\n",
        "      <td>         CABINET</td>\n",
        "      <td>  679</td>\n",
        "      <td> DAMAGED OR MISSING</td>\n",
        "      <td> 1</td>\n",
        "      <td>  OPEN</td>\n",
        "      <td> 1/17/2015</td>\n",
        "      <td>  The following complaint conditions are still ...</td>\n",
        "    </tr>\n",
        "    <tr>\n",
        "      <th>2</th>\n",
        "      <td> 13094132</td>\n",
        "      <td> 6280239</td>\n",
        "      <td> 29</td>\n",
        "      <td>      BUILDING</td>\n",
        "      <td> 148</td>\n",
        "      <td>  ENTIRE BUILDING</td>\n",
        "      <td> 1</td>\n",
        "      <td>     EMERGENCY</td>\n",
        "      <td> 12</td>\n",
        "      <td>        HEATING</td>\n",
        "      <td> 196</td>\n",
        "      <td>    HEAT RELATED</td>\n",
        "      <td> 1358</td>\n",
        "      <td>            NO HEAT</td>\n",
        "      <td> 1</td>\n",
        "      <td>  OPEN</td>\n",
        "      <td> 1/25/2013</td>\n",
        "      <td> More than one complaint was received for this ...</td>\n",
        "    </tr>\n",
        "    <tr>\n",
        "      <th>3</th>\n",
        "      <td> 15025597</td>\n",
        "      <td> 7213425</td>\n",
        "      <td> 92</td>\n",
        "      <td> BUILDING-WIDE</td>\n",
        "      <td> 550</td>\n",
        "      <td>    BUILDING-WIDE</td>\n",
        "      <td> 1</td>\n",
        "      <td>     EMERGENCY</td>\n",
        "      <td> 59</td>\n",
        "      <td> HEAT/HOT WATER</td>\n",
        "      <td> 349</td>\n",
        "      <td> ENTIRE BUILDING</td>\n",
        "      <td> 2715</td>\n",
        "      <td>            NO HEAT</td>\n",
        "      <td> 2</td>\n",
        "      <td> CLOSE</td>\n",
        "      <td> 1/13/2015</td>\n",
        "      <td>  The Department of Housing Preservation and De...</td>\n",
        "    </tr>\n",
        "    <tr>\n",
        "      <th>4</th>\n",
        "      <td> 15012141</td>\n",
        "      <td> 7204119</td>\n",
        "      <td> 20</td>\n",
        "      <td>     APARTMENT</td>\n",
        "      <td>  68</td>\n",
        "      <td> ENTIRE APARTMENT</td>\n",
        "      <td> 1</td>\n",
        "      <td>     EMERGENCY</td>\n",
        "      <td> 59</td>\n",
        "      <td> HEAT/HOT WATER</td>\n",
        "      <td> 349</td>\n",
        "      <td> ENTIRE BUILDING</td>\n",
        "      <td> 2715</td>\n",
        "      <td>            NO HEAT</td>\n",
        "      <td> 2</td>\n",
        "      <td> CLOSE</td>\n",
        "      <td> 1/14/2015</td>\n",
        "      <td>  The Department of Housing Preservation and De...</td>\n",
        "    </tr>\n",
        "  </tbody>\n",
        "</table>\n",
        "<p>5 rows \u00d7 18 columns</p>\n",
        "</div>"
       ],
       "metadata": {},
       "output_type": "pyout",
       "prompt_number": 114,
       "text": [
        "   ProblemID  ComplaintID  UnitTypeID       UnitType  SpaceTypeID  \\\n",
        "0   15048596      7226979          91      APARTMENT          546   \n",
        "1   15048597      7226979          91      APARTMENT          546   \n",
        "2   13094132      6280239          29       BUILDING          148   \n",
        "3   15025597      7213425          92  BUILDING-WIDE          550   \n",
        "4   15012141      7204119          20      APARTMENT           68   \n",
        "\n",
        "          SpaceType  TypeID           Type  MajorCategoryID   MajorCategory  \\\n",
        "0           KITCHEN       1      EMERGENCY                9        PLUMBING   \n",
        "1           KITCHEN       3  NON EMERGENCY               11         GENERAL   \n",
        "2   ENTIRE BUILDING       1      EMERGENCY               12         HEATING   \n",
        "3     BUILDING-WIDE       1      EMERGENCY               59  HEAT/HOT WATER   \n",
        "4  ENTIRE APARTMENT       1      EMERGENCY               59  HEAT/HOT WATER   \n",
        "\n",
        "   MinorCategoryID    MinorCategory  CodeID                Code  StatusID  \\\n",
        "0               65       BASIN/SINK    2534        PIPE LEAKING         1   \n",
        "1               73          CABINET     679  DAMAGED OR MISSING         1   \n",
        "2              196     HEAT RELATED    1358             NO HEAT         1   \n",
        "3              349  ENTIRE BUILDING    2715             NO HEAT         2   \n",
        "4              349  ENTIRE BUILDING    2715             NO HEAT         2   \n",
        "\n",
        "  Status StatusDate                                  StatusDescription  \n",
        "0   OPEN  1/17/2015   The following complaint conditions are still ...  \n",
        "1   OPEN  1/17/2015   The following complaint conditions are still ...  \n",
        "2   OPEN  1/25/2013  More than one complaint was received for this ...  \n",
        "3  CLOSE  1/13/2015   The Department of Housing Preservation and De...  \n",
        "4  CLOSE  1/14/2015   The Department of Housing Preservation and De...  \n",
        "\n",
        "[5 rows x 18 columns]"
       ]
      }
     ],
     "prompt_number": 114
    },
    {
     "cell_type": "code",
     "collapsed": false,
     "input": [
      "complaints = pd.read_csv('AllOpenComplaints20150201/Complaint20150131.txt', sep = '|')"
     ],
     "language": "python",
     "metadata": {},
     "outputs": [],
     "prompt_number": 111
    },
    {
     "cell_type": "code",
     "collapsed": false,
     "input": [
      "complaints.head() "
     ],
     "language": "python",
     "metadata": {},
     "outputs": [
      {
       "html": [
        "<div style=\"max-height:1000px;max-width:1500px;overflow:auto;\">\n",
        "<table border=\"1\" class=\"dataframe\">\n",
        "  <thead>\n",
        "    <tr style=\"text-align: right;\">\n",
        "      <th></th>\n",
        "      <th>ComplaintID</th>\n",
        "      <th>BuildingID</th>\n",
        "      <th>BoroughID</th>\n",
        "      <th>Borough</th>\n",
        "      <th>HouseNumber</th>\n",
        "      <th>StreetName</th>\n",
        "      <th>Zip</th>\n",
        "      <th>Block</th>\n",
        "      <th>Lot</th>\n",
        "      <th>Apartment</th>\n",
        "      <th>CommunityBoard</th>\n",
        "      <th>ReceivedDate</th>\n",
        "      <th>ReferenceNumber</th>\n",
        "      <th>StatusID</th>\n",
        "      <th>Status</th>\n",
        "      <th>StatusDate</th>\n",
        "    </tr>\n",
        "  </thead>\n",
        "  <tbody>\n",
        "    <tr>\n",
        "      <th>0</th>\n",
        "      <td> 7226979</td>\n",
        "      <td> 1420</td>\n",
        "      <td> 1</td>\n",
        "      <td> MANHATTAN</td>\n",
        "      <td>  442</td>\n",
        "      <td>                2 AVENUE</td>\n",
        "      <td> 10010</td>\n",
        "      <td>  931</td>\n",
        "      <td>   1</td>\n",
        "      <td>  20D</td>\n",
        "      <td>  6</td>\n",
        "      <td> 1/17/2015</td>\n",
        "      <td> 1-1-1056971292</td>\n",
        "      <td> 1</td>\n",
        "      <td>  OPEN</td>\n",
        "      <td> 1/17/2015</td>\n",
        "    </tr>\n",
        "    <tr>\n",
        "      <th>1</th>\n",
        "      <td> 6280239</td>\n",
        "      <td> 2552</td>\n",
        "      <td> 1</td>\n",
        "      <td> MANHATTAN</td>\n",
        "      <td> 1428</td>\n",
        "      <td>                5 AVENUE</td>\n",
        "      <td> 10035</td>\n",
        "      <td> 1600</td>\n",
        "      <td>  21</td>\n",
        "      <td>  206</td>\n",
        "      <td> 10</td>\n",
        "      <td> 1/25/2013</td>\n",
        "      <td>  1-1-821077391</td>\n",
        "      <td> 1</td>\n",
        "      <td>  OPEN</td>\n",
        "      <td> 1/25/2013</td>\n",
        "    </tr>\n",
        "    <tr>\n",
        "      <th>2</th>\n",
        "      <td> 7213425</td>\n",
        "      <td> 3469</td>\n",
        "      <td> 1</td>\n",
        "      <td> MANHATTAN</td>\n",
        "      <td> 2155</td>\n",
        "      <td> ADAM C POWELL BOULEVARD</td>\n",
        "      <td> 10027</td>\n",
        "      <td> 1912</td>\n",
        "      <td>  63</td>\n",
        "      <td> BLDG</td>\n",
        "      <td> 10</td>\n",
        "      <td> 1/10/2015</td>\n",
        "      <td> 1-1-1054365792</td>\n",
        "      <td> 2</td>\n",
        "      <td> CLOSE</td>\n",
        "      <td> 1/13/2015</td>\n",
        "    </tr>\n",
        "    <tr>\n",
        "      <th>3</th>\n",
        "      <td> 7204119</td>\n",
        "      <td> 5590</td>\n",
        "      <td> 1</td>\n",
        "      <td> MANHATTAN</td>\n",
        "      <td> 1528</td>\n",
        "      <td>        AMSTERDAM AVENUE</td>\n",
        "      <td> 10031</td>\n",
        "      <td> 1988</td>\n",
        "      <td> 106</td>\n",
        "      <td>   1A</td>\n",
        "      <td>  9</td>\n",
        "      <td>  1/8/2015</td>\n",
        "      <td> 1-1-1053423272</td>\n",
        "      <td> 2</td>\n",
        "      <td> CLOSE</td>\n",
        "      <td> 1/14/2015</td>\n",
        "    </tr>\n",
        "    <tr>\n",
        "      <th>4</th>\n",
        "      <td> 7226968</td>\n",
        "      <td> 5881</td>\n",
        "      <td> 1</td>\n",
        "      <td> MANHATTAN</td>\n",
        "      <td> 2608</td>\n",
        "      <td>        AMSTERDAM AVENUE</td>\n",
        "      <td> 10040</td>\n",
        "      <td> 2159</td>\n",
        "      <td>  83</td>\n",
        "      <td>   3H</td>\n",
        "      <td> 12</td>\n",
        "      <td> 1/17/2015</td>\n",
        "      <td> 1-1-1056981172</td>\n",
        "      <td> 2</td>\n",
        "      <td> CLOSE</td>\n",
        "      <td> 1/21/2015</td>\n",
        "    </tr>\n",
        "  </tbody>\n",
        "</table>\n",
        "<p>5 rows \u00d7 16 columns</p>\n",
        "</div>"
       ],
       "metadata": {},
       "output_type": "pyout",
       "prompt_number": 118,
       "text": [
        "   ComplaintID  BuildingID  BoroughID    Borough HouseNumber  \\\n",
        "0      7226979        1420          1  MANHATTAN         442   \n",
        "1      6280239        2552          1  MANHATTAN        1428   \n",
        "2      7213425        3469          1  MANHATTAN        2155   \n",
        "3      7204119        5590          1  MANHATTAN        1528   \n",
        "4      7226968        5881          1  MANHATTAN        2608   \n",
        "\n",
        "                StreetName    Zip  Block  Lot Apartment  CommunityBoard  \\\n",
        "0                 2 AVENUE  10010    931    1       20D               6   \n",
        "1                 5 AVENUE  10035   1600   21       206              10   \n",
        "2  ADAM C POWELL BOULEVARD  10027   1912   63      BLDG              10   \n",
        "3         AMSTERDAM AVENUE  10031   1988  106        1A               9   \n",
        "4         AMSTERDAM AVENUE  10040   2159   83        3H              12   \n",
        "\n",
        "  ReceivedDate ReferenceNumber  StatusID Status StatusDate  \n",
        "0    1/17/2015  1-1-1056971292         1   OPEN  1/17/2015  \n",
        "1    1/25/2013   1-1-821077391         1   OPEN  1/25/2013  \n",
        "2    1/10/2015  1-1-1054365792         2  CLOSE  1/13/2015  \n",
        "3     1/8/2015  1-1-1053423272         2  CLOSE  1/14/2015  \n",
        "4    1/17/2015  1-1-1056981172         2  CLOSE  1/21/2015  \n",
        "\n",
        "[5 rows x 16 columns]"
       ]
      }
     ],
     "prompt_number": 118
    },
    {
     "cell_type": "code",
     "collapsed": false,
     "input": [
      "hc = pd.merge(problems, complaints, on = 'ComplaintID')"
     ],
     "language": "python",
     "metadata": {},
     "outputs": [],
     "prompt_number": 41
    },
    {
     "cell_type": "code",
     "collapsed": false,
     "input": [
      "complaints.head()"
     ],
     "language": "python",
     "metadata": {},
     "outputs": [
      {
       "html": [
        "<div style=\"max-height:1000px;max-width:1500px;overflow:auto;\">\n",
        "<table border=\"1\" class=\"dataframe\">\n",
        "  <thead>\n",
        "    <tr style=\"text-align: right;\">\n",
        "      <th></th>\n",
        "      <th>ComplaintID</th>\n",
        "      <th>BuildingID</th>\n",
        "      <th>BoroughID</th>\n",
        "      <th>Borough</th>\n",
        "      <th>HouseNumber</th>\n",
        "      <th>StreetName</th>\n",
        "      <th>Zip</th>\n",
        "      <th>Block</th>\n",
        "      <th>Lot</th>\n",
        "      <th>Apartment</th>\n",
        "      <th>CommunityBoard</th>\n",
        "      <th>ReceivedDate</th>\n",
        "      <th>ReferenceNumber</th>\n",
        "      <th>StatusID</th>\n",
        "      <th>Status</th>\n",
        "      <th>StatusDate</th>\n",
        "    </tr>\n",
        "  </thead>\n",
        "  <tbody>\n",
        "    <tr>\n",
        "      <th>0</th>\n",
        "      <td> 7226979</td>\n",
        "      <td> 1420</td>\n",
        "      <td> 1</td>\n",
        "      <td> MANHATTAN</td>\n",
        "      <td>  442</td>\n",
        "      <td>                2 AVENUE</td>\n",
        "      <td> 10010</td>\n",
        "      <td>  931</td>\n",
        "      <td>   1</td>\n",
        "      <td>  20D</td>\n",
        "      <td>  6</td>\n",
        "      <td> 1/17/2015</td>\n",
        "      <td> 1-1-1056971292</td>\n",
        "      <td> 1</td>\n",
        "      <td>  OPEN</td>\n",
        "      <td> 1/17/2015</td>\n",
        "    </tr>\n",
        "    <tr>\n",
        "      <th>1</th>\n",
        "      <td> 6280239</td>\n",
        "      <td> 2552</td>\n",
        "      <td> 1</td>\n",
        "      <td> MANHATTAN</td>\n",
        "      <td> 1428</td>\n",
        "      <td>                5 AVENUE</td>\n",
        "      <td> 10035</td>\n",
        "      <td> 1600</td>\n",
        "      <td>  21</td>\n",
        "      <td>  206</td>\n",
        "      <td> 10</td>\n",
        "      <td> 1/25/2013</td>\n",
        "      <td>  1-1-821077391</td>\n",
        "      <td> 1</td>\n",
        "      <td>  OPEN</td>\n",
        "      <td> 1/25/2013</td>\n",
        "    </tr>\n",
        "    <tr>\n",
        "      <th>2</th>\n",
        "      <td> 7213425</td>\n",
        "      <td> 3469</td>\n",
        "      <td> 1</td>\n",
        "      <td> MANHATTAN</td>\n",
        "      <td> 2155</td>\n",
        "      <td> ADAM C POWELL BOULEVARD</td>\n",
        "      <td> 10027</td>\n",
        "      <td> 1912</td>\n",
        "      <td>  63</td>\n",
        "      <td> BLDG</td>\n",
        "      <td> 10</td>\n",
        "      <td> 1/10/2015</td>\n",
        "      <td> 1-1-1054365792</td>\n",
        "      <td> 2</td>\n",
        "      <td> CLOSE</td>\n",
        "      <td> 1/13/2015</td>\n",
        "    </tr>\n",
        "    <tr>\n",
        "      <th>3</th>\n",
        "      <td> 7204119</td>\n",
        "      <td> 5590</td>\n",
        "      <td> 1</td>\n",
        "      <td> MANHATTAN</td>\n",
        "      <td> 1528</td>\n",
        "      <td>        AMSTERDAM AVENUE</td>\n",
        "      <td> 10031</td>\n",
        "      <td> 1988</td>\n",
        "      <td> 106</td>\n",
        "      <td>   1A</td>\n",
        "      <td>  9</td>\n",
        "      <td>  1/8/2015</td>\n",
        "      <td> 1-1-1053423272</td>\n",
        "      <td> 2</td>\n",
        "      <td> CLOSE</td>\n",
        "      <td> 1/14/2015</td>\n",
        "    </tr>\n",
        "    <tr>\n",
        "      <th>4</th>\n",
        "      <td> 7226968</td>\n",
        "      <td> 5881</td>\n",
        "      <td> 1</td>\n",
        "      <td> MANHATTAN</td>\n",
        "      <td> 2608</td>\n",
        "      <td>        AMSTERDAM AVENUE</td>\n",
        "      <td> 10040</td>\n",
        "      <td> 2159</td>\n",
        "      <td>  83</td>\n",
        "      <td>   3H</td>\n",
        "      <td> 12</td>\n",
        "      <td> 1/17/2015</td>\n",
        "      <td> 1-1-1056981172</td>\n",
        "      <td> 2</td>\n",
        "      <td> CLOSE</td>\n",
        "      <td> 1/21/2015</td>\n",
        "    </tr>\n",
        "  </tbody>\n",
        "</table>\n",
        "<p>5 rows \u00d7 16 columns</p>\n",
        "</div>"
       ],
       "metadata": {},
       "output_type": "pyout",
       "prompt_number": 107,
       "text": [
        "   ComplaintID  BuildingID  BoroughID    Borough HouseNumber  \\\n",
        "0      7226979        1420          1  MANHATTAN         442   \n",
        "1      6280239        2552          1  MANHATTAN        1428   \n",
        "2      7213425        3469          1  MANHATTAN        2155   \n",
        "3      7204119        5590          1  MANHATTAN        1528   \n",
        "4      7226968        5881          1  MANHATTAN        2608   \n",
        "\n",
        "                StreetName    Zip  Block  Lot Apartment  CommunityBoard  \\\n",
        "0                 2 AVENUE  10010    931    1       20D               6   \n",
        "1                 5 AVENUE  10035   1600   21       206              10   \n",
        "2  ADAM C POWELL BOULEVARD  10027   1912   63      BLDG              10   \n",
        "3         AMSTERDAM AVENUE  10031   1988  106        1A               9   \n",
        "4         AMSTERDAM AVENUE  10040   2159   83        3H              12   \n",
        "\n",
        "  ReceivedDate ReferenceNumber  StatusID Status StatusDate  \n",
        "0    1/17/2015  1-1-1056971292         1   OPEN  1/17/2015  \n",
        "1    1/25/2013   1-1-821077391         1   OPEN  1/25/2013  \n",
        "2    1/10/2015  1-1-1054365792         2  CLOSE  1/13/2015  \n",
        "3     1/8/2015  1-1-1053423272         2  CLOSE  1/14/2015  \n",
        "4    1/17/2015  1-1-1056981172         2  CLOSE  1/21/2015  \n",
        "\n",
        "[5 rows x 16 columns]"
       ]
      }
     ],
     "prompt_number": 107
    },
    {
     "cell_type": "code",
     "collapsed": false,
     "input": [
      "# test = pd.merge(hc, compl311, on = 'ComplaintID')\n",
      "len(set(test.ComplaintID))"
     ],
     "language": "python",
     "metadata": {},
     "outputs": [
      {
       "metadata": {},
       "output_type": "pyout",
       "prompt_number": 83,
       "text": [
        "78475"
       ]
      }
     ],
     "prompt_number": 83
    },
    {
     "cell_type": "code",
     "collapsed": false,
     "input": [
      "#test = test.sort(columns = 'ComplaintID')\n",
      "test.ix[0:1]\n",
      "#DataFrame.sort(columns=None, axis=0, ascending=True, inplace=False, kind='quicksort', na_position='last')"
     ],
     "language": "python",
     "metadata": {},
     "outputs": [
      {
       "html": [
        "<div style=\"max-height:1000px;max-width:1500px;overflow:auto;\">\n",
        "<table border=\"1\" class=\"dataframe\">\n",
        "  <thead>\n",
        "    <tr style=\"text-align: right;\">\n",
        "      <th></th>\n",
        "      <th>ComplaintID</th>\n",
        "      <th>BuildingID_x</th>\n",
        "      <th>BoroughID_x</th>\n",
        "      <th>Borough_x</th>\n",
        "      <th>HouseNumber_x</th>\n",
        "      <th>StreetName_x</th>\n",
        "      <th>Zip_x</th>\n",
        "      <th>Block_x</th>\n",
        "      <th>Lot_x</th>\n",
        "      <th>Apartment_x</th>\n",
        "      <th>CommunityBoard_x</th>\n",
        "      <th>ReceivedDate_x</th>\n",
        "      <th>ReferenceNumber_x</th>\n",
        "      <th>StatusID_x_x</th>\n",
        "      <th>Status_x_x</th>\n",
        "      <th>StatusDate_x_x</th>\n",
        "      <th>BuildingID_y</th>\n",
        "      <th>BoroughID_y</th>\n",
        "      <th>Borough_y</th>\n",
        "      <th>HouseNumber_y</th>\n",
        "      <th></th>\n",
        "    </tr>\n",
        "  </thead>\n",
        "  <tbody>\n",
        "    <tr>\n",
        "      <th>0</th>\n",
        "      <td> 7226979</td>\n",
        "      <td> 1420</td>\n",
        "      <td> 1</td>\n",
        "      <td> MANHATTAN</td>\n",
        "      <td> 442</td>\n",
        "      <td> 2 AVENUE</td>\n",
        "      <td> 10010</td>\n",
        "      <td> 931</td>\n",
        "      <td> 1</td>\n",
        "      <td> 20D</td>\n",
        "      <td> 6</td>\n",
        "      <td> 1/17/2015</td>\n",
        "      <td> 1-1-1056971292</td>\n",
        "      <td> 1</td>\n",
        "      <td> OPEN</td>\n",
        "      <td> 1/17/2015</td>\n",
        "      <td> 1420</td>\n",
        "      <td> 1</td>\n",
        "      <td> MANHATTAN</td>\n",
        "      <td> 442</td>\n",
        "      <td>...</td>\n",
        "    </tr>\n",
        "    <tr>\n",
        "      <th>1</th>\n",
        "      <td> 7226979</td>\n",
        "      <td> 1420</td>\n",
        "      <td> 1</td>\n",
        "      <td> MANHATTAN</td>\n",
        "      <td> 442</td>\n",
        "      <td> 2 AVENUE</td>\n",
        "      <td> 10010</td>\n",
        "      <td> 931</td>\n",
        "      <td> 1</td>\n",
        "      <td> 20D</td>\n",
        "      <td> 6</td>\n",
        "      <td> 1/17/2015</td>\n",
        "      <td> 1-1-1056971292</td>\n",
        "      <td> 1</td>\n",
        "      <td> OPEN</td>\n",
        "      <td> 1/17/2015</td>\n",
        "      <td> 1420</td>\n",
        "      <td> 1</td>\n",
        "      <td> MANHATTAN</td>\n",
        "      <td> 442</td>\n",
        "      <td>...</td>\n",
        "    </tr>\n",
        "  </tbody>\n",
        "</table>\n",
        "<p>2 rows \u00d7 62 columns</p>\n",
        "</div>"
       ],
       "metadata": {},
       "output_type": "pyout",
       "prompt_number": 95,
       "text": [
        "   ComplaintID  BuildingID_x  BoroughID_x  Borough_x HouseNumber_x  \\\n",
        "0      7226979          1420            1  MANHATTAN           442   \n",
        "1      7226979          1420            1  MANHATTAN           442   \n",
        "\n",
        "  StreetName_x  Zip_x  Block_x  Lot_x Apartment_x  CommunityBoard_x  \\\n",
        "0     2 AVENUE  10010      931      1         20D                 6   \n",
        "1     2 AVENUE  10010      931      1         20D                 6   \n",
        "\n",
        "  ReceivedDate_x ReferenceNumber_x  StatusID_x_x Status_x_x StatusDate_x_x  \\\n",
        "0      1/17/2015    1-1-1056971292             1       OPEN      1/17/2015   \n",
        "1      1/17/2015    1-1-1056971292             1       OPEN      1/17/2015   \n",
        "\n",
        "   BuildingID_y  BoroughID_y  Borough_y HouseNumber_y      \n",
        "0          1420            1  MANHATTAN           442 ...  \n",
        "1          1420            1  MANHATTAN           442 ...  \n",
        "\n",
        "[2 rows x 62 columns]"
       ]
      }
     ],
     "prompt_number": 95
    },
    {
     "cell_type": "code",
     "collapsed": false,
     "input": [
      "compl311 = pd.read_csv('311complaints.csv', sep = ',') "
     ],
     "language": "python",
     "metadata": {},
     "outputs": [],
     "prompt_number": 52
    },
    {
     "cell_type": "code",
     "collapsed": false,
     "input": [
      "len(compl311)"
     ],
     "language": "python",
     "metadata": {},
     "outputs": [
      {
       "metadata": {},
       "output_type": "pyout",
       "prompt_number": 53,
       "text": [
        "381837"
       ]
      }
     ],
     "prompt_number": 53
    },
    {
     "cell_type": "code",
     "collapsed": false,
     "input": [
      "compl311gb = compl311.groupby('ComplaintID')"
     ],
     "language": "python",
     "metadata": {},
     "outputs": [],
     "prompt_number": 96
    },
    {
     "cell_type": "code",
     "collapsed": false,
     "input": [
      "len(compl311gb)"
     ],
     "language": "python",
     "metadata": {},
     "outputs": [
      {
       "metadata": {},
       "output_type": "pyout",
       "prompt_number": 98,
       "text": [
        "220487"
       ]
      }
     ],
     "prompt_number": 98
    },
    {
     "cell_type": "code",
     "collapsed": false,
     "input": [
      "complaints.columns"
     ],
     "language": "python",
     "metadata": {},
     "outputs": [
      {
       "metadata": {},
       "output_type": "pyout",
       "prompt_number": 100,
       "text": [
        "Index([u'ComplaintID', u'BuildingID', u'BoroughID', u'Borough', u'HouseNumber', u'StreetName', u'Zip', u'Block', u'Lot', u'Apartment', u'CommunityBoard', u'ReceivedDate', u'ReferenceNumber', u'StatusID', u'Status', u'StatusDate'], dtype='object')"
       ]
      }
     ],
     "prompt_number": 100
    },
    {
     "cell_type": "code",
     "collapsed": false,
     "input": [
      "problems.columns"
     ],
     "language": "python",
     "metadata": {},
     "outputs": [
      {
       "metadata": {},
       "output_type": "pyout",
       "prompt_number": 101,
       "text": [
        "Index([u'ComplaintID', u'BuildingID', u'BoroughID', u'Borough', u'HouseNumber', u'StreetName', u'Zip', u'Block', u'Lot', u'Apartment', u'CommunityBoard', u'ReceivedDate', u'ReferenceNumber', u'StatusID', u'Status', u'StatusDate'], dtype='object')"
       ]
      }
     ],
     "prompt_number": 101
    },
    {
     "cell_type": "code",
     "collapsed": false,
     "input": [
      "buildings = pd.read_csv('Buildings20150201/Building20150131.txt', sep = '|')"
     ],
     "language": "python",
     "metadata": {},
     "outputs": [
      {
       "output_type": "stream",
       "stream": "stderr",
       "text": [
        "/Library/Python/2.7/site-packages/pandas/io/parsers.py:1070: DtypeWarning: Columns (7) have mixed types. Specify dtype option on import or set low_memory=False.\n",
        "  data = self._reader.read(nrows)\n"
       ]
      }
     ],
     "prompt_number": 120
    },
    {
     "cell_type": "code",
     "collapsed": false,
     "input": [
      "len(buildings)"
     ],
     "language": "python",
     "metadata": {},
     "outputs": [
      {
       "metadata": {},
       "output_type": "pyout",
       "prompt_number": 128,
       "text": [
        "295366"
       ]
      }
     ],
     "prompt_number": 128
    },
    {
     "cell_type": "code",
     "collapsed": false,
     "input": [
      "buildings_2 = pd.read_csv('Buildings20150101/Building20141231.txt', sep = \"|\")"
     ],
     "language": "python",
     "metadata": {},
     "outputs": [],
     "prompt_number": 131
    },
    {
     "cell_type": "code",
     "collapsed": false,
     "input": [
      "len(buildings_2)"
     ],
     "language": "python",
     "metadata": {},
     "outputs": [
      {
       "metadata": {},
       "output_type": "pyout",
       "prompt_number": 132,
       "text": [
        "294889"
       ]
      }
     ],
     "prompt_number": 132
    },
    {
     "cell_type": "code",
     "collapsed": false,
     "input": [],
     "language": "python",
     "metadata": {},
     "outputs": []
    }
   ],
   "metadata": {}
  }
 ]
}